{
 "cells": [
  {
   "cell_type": "markdown",
   "id": "b2add2f7",
   "metadata": {},
   "source": [
    "# Jupyter Notebook\n",
    "\n",
    "É um ambiente que viabiliza\n",
    "- Execução de codigos\n",
    "- Criação de documento com texto formatado\n",
    "- Plotagem de gráficos\n",
    "\n",
    "> É frequentemente usado para notas de aulas"
   ]
  },
  {
   "cell_type": "code",
   "execution_count": 19,
   "id": "34518a73",
   "metadata": {},
   "outputs": [
    {
     "name": "stdout",
     "output_type": "stream",
     "text": [
      "Fala, dev, tudo bem?\n"
     ]
    }
   ],
   "source": [
    "# imprimindo a mensagem\n",
    "print(\"Fala, dev, tudo bem?\")"
   ]
  },
  {
   "cell_type": "code",
   "execution_count": null,
   "id": "680a092c",
   "metadata": {},
   "outputs": [],
   "source": [
    "print(\"Bem vindos a aula 2!\")"
   ]
  },
  {
   "cell_type": "code",
   "execution_count": null,
   "id": "312afafb",
   "metadata": {},
   "outputs": [],
   "source": [
    "print(\"Bem vindas a aula 2!\")"
   ]
  },
  {
   "cell_type": "code",
   "execution_count": 6,
   "id": "bd40001c",
   "metadata": {},
   "outputs": [],
   "source": [
    "import random\n",
    "random.randint?"
   ]
  },
  {
   "cell_type": "code",
   "execution_count": null,
   "id": "985ab3d1",
   "metadata": {},
   "outputs": [],
   "source": [
    "num = 3"
   ]
  },
  {
   "cell_type": "code",
   "execution_count": 13,
   "id": "037fb6bd",
   "metadata": {},
   "outputs": [],
   "source": [
    "# adicionando 2 a variavel num\n",
    "num = num + 2"
   ]
  },
  {
   "cell_type": "code",
   "execution_count": 12,
   "id": "245543bf",
   "metadata": {},
   "outputs": [],
   "source": [
    "num = num * 2"
   ]
  },
  {
   "cell_type": "code",
   "execution_count": null,
   "id": "10d0768c",
   "metadata": {},
   "outputs": [],
   "source": [
    "print(num)"
   ]
  },
  {
   "cell_type": "code",
   "execution_count": null,
   "id": "ffd3ca85",
   "metadata": {},
   "outputs": [],
   "source": [
    "import time\n",
    "for i in range(100):\n",
    "    print(i)\n",
    "    time.sleep(0.5)"
   ]
  },
  {
   "cell_type": "code",
   "execution_count": null,
   "id": "a0bed5da",
   "metadata": {},
   "outputs": [],
   "source": []
  }
 ],
 "metadata": {
  "kernelspec": {
   "display_name": "Python 3 (ipykernel)",
   "language": "python",
   "name": "python3"
  },
  "language_info": {
   "codemirror_mode": {
    "name": "ipython",
    "version": 3
   },
   "file_extension": ".py",
   "mimetype": "text/x-python",
   "name": "python",
   "nbconvert_exporter": "python",
   "pygments_lexer": "ipython3",
   "version": "3.11.4"
  }
 },
 "nbformat": 4,
 "nbformat_minor": 5
}
